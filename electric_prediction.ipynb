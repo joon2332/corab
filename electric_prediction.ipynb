{
  "nbformat": 4,
  "nbformat_minor": 0,
  "metadata": {
    "colab": {
      "name": "electric prediction.ipynb",
      "provenance": [],
      "collapsed_sections": [],
      "authorship_tag": "ABX9TyPYRXFMbTdGZgCMIhTcvWgT",
      "include_colab_link": true
    },
    "kernelspec": {
      "name": "python3",
      "display_name": "Python 3"
    },
    "language_info": {
      "name": "python"
    }
  },
  "cells": [
    {
      "cell_type": "markdown",
      "metadata": {
        "id": "view-in-github",
        "colab_type": "text"
      },
      "source": [
        "<a href=\"https://colab.research.google.com/github/joon2332/corab/blob/master/electric_prediction.ipynb\" target=\"_parent\"><img src=\"https://colab.research.google.com/assets/colab-badge.svg\" alt=\"Open In Colab\"/></a>"
      ]
    },
    {
      "cell_type": "code",
      "metadata": {
        "id": "OWiWZ-D1Oxsv"
      },
      "source": [
        ""
      ],
      "execution_count": null,
      "outputs": []
    },
    {
      "cell_type": "code",
      "metadata": {
        "id": "b1fJ6NgUOzEP"
      },
      "source": [
        "import numpy as np\n",
        "import pandas as pd"
      ],
      "execution_count": 2,
      "outputs": []
    },
    {
      "cell_type": "code",
      "metadata": {
        "id": "r88Yzl5xPRmm"
      },
      "source": [
        "# data loading\n",
        "df = pd.read_excel('./Current.xls', index_col=0, header=0, encoding='cp949', sep=',', dtype=({'OCCR_DT':str, \n",
        "'CALC_CC_VAL':float, 'AA':float})"
      ],
      "execution_count": null,
      "outputs": []
    },
    {
      "cell_type": "code",
      "metadata": {
        "id": "zPYweb5tRkqm"
      },
      "source": [
        "df.shape"
      ],
      "execution_count": null,
      "outputs": []
    },
    {
      "cell_type": "markdown",
      "metadata": {
        "id": "4bmPgiWAVYp-"
      },
      "source": [
        "df.head()"
      ]
    },
    {
      "cell_type": "code",
      "metadata": {
        "id": "qOkys95EVfy-"
      },
      "source": [
        "# change pd > numpy\n",
        "arr_current = df.values"
      ],
      "execution_count": null,
      "outputs": []
    },
    {
      "cell_type": "code",
      "metadata": {
        "id": "KDGyuISCVgYl"
      },
      "source": [
        "arr_current.shape"
      ],
      "execution_count": null,
      "outputs": []
    },
    {
      "cell_type": "code",
      "metadata": {
        "id": "9VR0extve92H"
      },
      "source": [
        "type(df), type(arr_current)"
      ],
      "execution_count": null,
      "outputs": []
    },
    {
      "cell_type": "code",
      "metadata": {
        "id": "K-QOQlx5fEcq"
      },
      "source": [
        "len(arr_current)"
      ],
      "execution_count": null,
      "outputs": []
    },
    {
      "cell_type": "code",
      "metadata": {
        "id": "DsK_dbp5fEnh"
      },
      "source": [
        "arr_current[0:8, :]"
      ],
      "execution_count": null,
      "outputs": []
    },
    {
      "cell_type": "code",
      "metadata": {
        "id": "GiRkFw-qfEvN"
      },
      "source": [
        "arr_current[8:9, 3]"
      ],
      "execution_count": null,
      "outputs": []
    },
    {
      "cell_type": "code",
      "metadata": {
        "id": "ROxL6sTafEzA"
      },
      "source": [
        "def split_xy5(dataset, time_steps, y_colum):\n",
        "  x, y = list(), list()\n",
        "\n",
        "  for i in range(len(dataset):\n",
        "    x_end_number = i + time_steps\n",
        "    y_end_number = x_end_number + y_colum\n",
        "\n",
        "    if y_end_number > len(dataset):\n",
        "      break\n",
        "\n",
        "    tmp_x = dataset[i:x_end_number, :]\n",
        "    tmp_y = dataset[x_end_number:y_end_number, 0]\n",
        "\n",
        "    x.append(tmp_x)\n",
        "    y.append(tmp_y)\n",
        "\n",
        "  return np.array(x), np.array(y)"
      ],
      "execution_count": null,
      "outputs": []
    },
    {
      "cell_type": "code",
      "metadata": {
        "id": "1b7MUyoffE2R"
      },
      "source": [
        "x, y = split_xy5(arr_current, 8, 1)\n",
        "\n",
        "print(\"x y dataset were splited\")"
      ],
      "execution_count": null,
      "outputs": []
    },
    {
      "cell_type": "code",
      "metadata": {
        "id": "aTLcv3cSfE5x"
      },
      "source": [
        "x.shape, y.shape"
      ],
      "execution_count": null,
      "outputs": []
    },
    {
      "cell_type": "code",
      "metadata": {
        "id": "ncq-8haRfE80"
      },
      "source": [
        "from sklearn.model_selection import train_test_split\n",
        "\n",
        "x_train, x_test, y_train, y_test = train_test_split(x, y, test_size=0.3, \n",
        "                                                    random=1111)\n",
        "print(\"train, test dataset were splited\")"
      ],
      "execution_count": null,
      "outputs": []
    },
    {
      "cell_type": "code",
      "metadata": {
        "id": "-Cy0cGI8fE_4"
      },
      "source": [
        "x_train.shape, x_test.shape"
      ],
      "execution_count": null,
      "outputs": []
    },
    {
      "cell_type": "code",
      "metadata": {
        "id": "5ITu9eELfFDo"
      },
      "source": [
        "x_train = np.reshape(x_train, (x_train.shape[0], \n",
        "                               x_train.shape[1] * x_train.shape[2]))\n",
        "\n",
        "x_test = np.reshape(x_test, (x_test.shape[0], \n",
        "                             x_test.shape[1] * x_test.shape[2]))\n",
        "\n",
        "print(\"trained data : \", x_train.shape)\n",
        "print(\"test data : \", x_test.shape)"
      ],
      "execution_count": null,
      "outputs": []
    },
    {
      "cell_type": "code",
      "metadata": {
        "id": "1LGQ24FBfFNA"
      },
      "source": [
        "x_train.shape, x_test.shape"
      ],
      "execution_count": null,
      "outputs": []
    },
    {
      "cell_type": "code",
      "metadata": {
        "id": "CANIjtB2q4g-"
      },
      "source": [
        "from sklearn.preprocessing import StandardScaler\n",
        "\n",
        "scaler = StandardScaler()\n",
        "scaler.fit(x_train)\n",
        "\n",
        "x_train_scaled = scaler.transform(x_train)\n",
        "x_test_scaled = scaler.transform(x_test)\n",
        "\n",
        "print(\"nomalizing result : \", x_train_scaled[0, :])"
      ],
      "execution_count": null,
      "outputs": []
    },
    {
      "cell_type": "code",
      "metadata": {
        "id": "LaPc2Rd8q4pP"
      },
      "source": [
        "x_train_scaled = np.shape(x_train_scaled, (x_train_scaled.shape[0], 8, 8))\n",
        "x_test_scaled = np.shape(x_test_scaled, (x_test_scaled[0], 8, 8))"
      ],
      "execution_count": null,
      "outputs": []
    },
    {
      "cell_type": "code",
      "metadata": {
        "id": "OFPrIMO0q4sQ"
      },
      "source": [
        "from keras.models import Sequential\n",
        "from keras.layers import Dense, LSTM"
      ],
      "execution_count": null,
      "outputs": []
    },
    {
      "cell_type": "code",
      "metadata": {
        "id": "WgcLj2sxq4u1"
      },
      "source": [
        "model = Sequential()\n",
        "model.add(LSTM(64, input_shape=(8, 8)))\n",
        "model.add(Dense(32, activation='relu'))\n",
        "model.add(Dense(32, activation='relu'))\n",
        "model.add(Dense(32, activation='relu'))\n",
        "model.add(Dense(32, activation='relu'))\n",
        "model.add(Dense(1))"
      ],
      "execution_count": null,
      "outputs": []
    },
    {
      "cell_type": "code",
      "metadata": {
        "id": "mIrN3Z8cq4xP"
      },
      "source": [
        "model.compile(;oss='mse', optimizer='adam', metrics=['mse'])"
      ],
      "execution_count": null,
      "outputs": []
    },
    {
      "cell_type": "code",
      "metadata": {
        "id": "NZeCHCV1q4z5"
      },
      "source": [
        "from keras.callbacks import EarlyStopping\n",
        "early_stopping = EarlyStopping(patience=5)\n",
        "model.fit(x_train_scaled, y_train, validation_split=0.2, verbose=1, batch_size=12,\n",
        "          epochs=5, callbacks=[early_stopping])"
      ],
      "execution_count": null,
      "outputs": []
    },
    {
      "cell_type": "code",
      "metadata": {
        "id": "_890uqkLq42r"
      },
      "source": [
        "loss, mse = model.evaluate(x_test_scaled, y_test, batch_size=1)\n",
        "\n",
        "print('loss : ', loss)\n",
        "print('mse : ', mse)"
      ],
      "execution_count": null,
      "outputs": []
    },
    {
      "cell_type": "code",
      "metadata": {
        "id": "RbUEVVeeq45c"
      },
      "source": [
        "y_pred = model.predict(x_test_scaled)\n",
        "\n",
        "print('trainning completed')\n",
        "\n",
        "for i in range(100):\n",
        "  print('real : ', y_test[i], '/ predicted : ', y_pred[i])"
      ],
      "execution_count": null,
      "outputs": []
    },
    {
      "cell_type": "code",
      "metadata": {
        "id": "LyYkfrwCq48Z"
      },
      "source": [
        ""
      ],
      "execution_count": null,
      "outputs": []
    },
    {
      "cell_type": "code",
      "metadata": {
        "id": "ERnrK3Iaq4_P"
      },
      "source": [
        ""
      ],
      "execution_count": null,
      "outputs": []
    }
  ]
}