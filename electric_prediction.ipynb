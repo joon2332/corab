{
  "nbformat": 4,
  "nbformat_minor": 0,
  "metadata": {
    "colab": {
      "name": "electric prediction.ipynb",
      "provenance": [],
      "authorship_tag": "ABX9TyMVOn5U/GsSYT0joFCN2Uhe",
      "include_colab_link": true
    },
    "kernelspec": {
      "name": "python3",
      "display_name": "Python 3"
    },
    "language_info": {
      "name": "python"
    }
  },
  "cells": [
    {
      "cell_type": "markdown",
      "metadata": {
        "id": "view-in-github",
        "colab_type": "text"
      },
      "source": [
        "<a href=\"https://colab.research.google.com/github/joon2332/corab/blob/master/electric_prediction.ipynb\" target=\"_parent\"><img src=\"https://colab.research.google.com/assets/colab-badge.svg\" alt=\"Open In Colab\"/></a>"
      ]
    },
    {
      "cell_type": "code",
      "metadata": {
        "id": "OWiWZ-D1Oxsv"
      },
      "source": [
        ""
      ],
      "execution_count": null,
      "outputs": []
    },
    {
      "cell_type": "code",
      "metadata": {
        "id": "b1fJ6NgUOzEP"
      },
      "source": [
        "import numpy as np\n",
        "import pandas as pd"
      ],
      "execution_count": 2,
      "outputs": []
    },
    {
      "cell_type": "code",
      "metadata": {
        "id": "r88Yzl5xPRmm"
      },
      "source": [
        "# data loading\n",
        "df = pd.read_excel('./Current.xls', index_col=0, header=0, encoding='cp949', sep=',', dtype=({'OCCR_DT':str, \n",
        "'CALC_CC_VAL':float, 'AA':float})"
      ],
      "execution_count": null,
      "outputs": []
    },
    {
      "cell_type": "code",
      "metadata": {
        "id": "zPYweb5tRkqm"
      },
      "source": [
        "df.shape"
      ],
      "execution_count": null,
      "outputs": []
    }
  ]
}